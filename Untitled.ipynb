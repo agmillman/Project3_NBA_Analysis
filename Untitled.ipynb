{
 "cells": [
  {
   "cell_type": "code",
   "execution_count": 13,
   "id": "446fd142-c7d2-425d-98a7-44b5a7ca2df2",
   "metadata": {},
   "outputs": [
    {
     "name": "stdout",
     "output_type": "stream",
     "text": [
      "Data retrieved for Player ID 2544.\n",
      "Data retrieved for Player ID 201142.\n",
      "Data retrieved for Player ID 201935.\n",
      "Data retrieved for Player ID 201939.\n",
      "Data retrieved for Player ID 202681.\n",
      "Data retrieved for Player ID 203076.\n",
      "Data retrieved for Player ID 203507.\n",
      "Data retrieved for Player ID 1629029.\n"
     ]
    }
   ],
   "source": [
    "import psycopg2\n",
    "import pandas as pd\n",
    "import time\n",
    "from nba_api.stats.endpoints import shotchartdetail\n",
    "# Connect to the PostgreSQL database\n",
    "conn = psycopg2.connect(\n",
    "    dbname=\"nba_stats\",\n",
    "    user=\"postgres\",\n",
    "    password=\"Etak1688$\",\n",
    "    host=\"localhost\",\n",
    "    port=\"5432\"\n",
    ")\n",
    "# Create a cursor object\n",
    "cur = conn.cursor()\n",
    "# Query to get player data from the database\n",
    "cur.execute('SELECT DISTINCT \"PLAYER_ID\" FROM public.\"PlayerCareer_Stats\" WHERE \"PLAYER_ID\" IN (2544, 201142, 201935, 201939, 202681, 203076, 203507, 1629029)')\n",
    "# Fetch all results and flatten the list of player IDs\n",
    "players = [player[0] for player in cur.fetchall()]  # Unpack the tuples\n",
    "all_shot_data = pd.DataFrame()\n",
    "# Loop through each player ID and fetch shot chart data\n",
    "for player in players:\n",
    "    try:\n",
    "        shot_chart = shotchartdetail.ShotChartDetail(\n",
    "            team_id=0,\n",
    "            player_id=player,\n",
    "            season_nullable=\"ALL\",  # Set a specific season to avoid API issues\n",
    "            season_type_all_star=\"Regular Season\"\n",
    "        )\n",
    "        # Check if the response contains data before proceeding\n",
    "        shot_data = shot_chart.get_data_frames()\n",
    "        if shot_data:  # Ensures there is data returned\n",
    "            shot_df = shot_data[0]\n",
    "            all_shot_data = pd.concat([all_shot_data, shot_df], ignore_index=True)\n",
    "            print(f\"Data retrieved for Player ID {player}.\")\n",
    "        else:\n",
    "            print(f\"No data available for Player ID {player}. Skipping.\")\n",
    "        # Sleep to avoid hitting rate limits\n",
    "        time.sleep(0.5)\n",
    "    except KeyError as e:\n",
    "        print(f\"KeyError for Player ID {player}: {e}\")\n",
    "    except Exception as e:\n",
    "        print(f\"Error fetching data for Player ID {player}: {e}\")\n",
    "# Save the combined data to a CSV file\n",
    "all_shot_data.to_csv(\"shot_chart_data.csv\", index=False)\n",
    "# Close the cursor and the connection\n",
    "cur.close()\n",
    "conn.close()"
   ]
  },
  {
   "cell_type": "code",
   "execution_count": null,
   "id": "694f8fe5-0ae3-4101-9917-daaf52eb8785",
   "metadata": {},
   "outputs": [],
   "source": []
  }
 ],
 "metadata": {
  "kernelspec": {
   "display_name": "Python 3 (ipykernel)",
   "language": "python",
   "name": "python3"
  },
  "language_info": {
   "codemirror_mode": {
    "name": "ipython",
    "version": 3
   },
   "file_extension": ".py",
   "mimetype": "text/x-python",
   "name": "python",
   "nbconvert_exporter": "python",
   "pygments_lexer": "ipython3",
   "version": "3.12.4"
  }
 },
 "nbformat": 4,
 "nbformat_minor": 5
}
