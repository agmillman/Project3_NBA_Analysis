import psycopg2


# Connect to the PostgreSQL database
conn = psycopg2.connect(
    dbname="nba_stats",
    user="postgres",
    password="*********",
    host="localhost",
    port="5432"
)

# Create a cursor object
cur = conn.cursor()

# Query to get player data from the database
cur.execute('SELECT DISTINCT "PLAYER_ID", "PLAYER_NAME" FROM public."PlayerCareer_Stats";')

# Fetch all results
players = cur.fetchall()

# Display the results
for player in players:
    print(f"ID: {player[0]}, Name: {player[1]}")

# Close the cursor and the connection
cur.close()
conn.close()




