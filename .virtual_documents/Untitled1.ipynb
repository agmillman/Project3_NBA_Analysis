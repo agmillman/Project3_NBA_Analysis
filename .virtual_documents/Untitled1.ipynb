const drawMultiLineChart = (data, container, metrics, colors) => {
  console.log('Raw Data:', data);

  const filteredData = data.filter((d) =>
    metrics.every((metric) => d.season_id && !isNaN(d[metric]))
  );
  console.log('Filtered Data:', filteredData);

  clearChart(container);

  const margin = { top: 40, right: 30, bottom: 50, left: 60 };
  const width = 600 - margin.left - margin.right;
  const height = 400 - margin.top - margin.bottom;

  const svg = d3.select(container)
    .append('svg')
    .attr('width', width + margin.left + margin.right)
    .attr('height', height + margin.top + margin.bottom)
    .append('g')
    .attr('transform', translate(${margin.left},${margin.top}));

  const x = d3.scalePoint()
    .domain(filteredData.map((d) => String(d.season_id)))
    .range([0, width]);

  const y = d3.scaleLinear()
    .domain([
      0,
      d3.max(filteredData, (d) => Math.max(...metrics.map((metric) => d[metric]))),
    ])
    .nice()
    .range([height, 0]);

  svg.append('g')
    .attr('transform', translate(0,${height}))
    .call(d3.axisBottom(x));

  svg.append('g').call(d3.axisLeft(y));

  // Add labels
  svg.append('text')
    .attr('x', width / 2)
    .attr('y', height + margin.bottom)
    .attr('text-anchor', 'middle')
    .style('font-size', '14px')
    .text('Season ID');

  svg.append('text')
    .attr('transform', 'rotate(-90)')
    .attr('x', -height / 2)
    .attr('y', -margin.left + 10)
    .attr('text-anchor', 'middle')
    .style('font-size', '14px')
    .text('Metric Value');

  svg.append('text')
    .attr('x', width / 2)
    .attr('y', -margin.top / 2)
    .attr('text-anchor', 'middle')
    .style('font-size', '16px')
    .style('font-weight', 'bold')
    .text('Multi-Line Chart');

  const tooltip = d3.select('body').append('div')
    .style('position', 'absolute')
    .style('background', 'lightgray')
    .style('padding', '5px 10px')
    .style('border-radius', '4px')
    .style('pointer-events', 'none')
    .style('opacity', 0)
    .style('font-size', '12px');

  metrics.forEach((metric, index) => {
    const line = d3.line()
      .x((d) => x(d.season_id))
      .y((d) => y(d[metric]));

    svg.append('path')
      .datum(filteredData)
      .attr('fill', 'none')
      .attr('stroke', colors[index])
      .attr('stroke-width', 2)
      .attr('d', line);

    svg.append('text')
      .attr('x', width - 150)
      .attr('y', margin.top + index * 20)
      .attr('fill', colors[index])
      .style('font-size', '12px')
      .text(metric.toUpperCase());

    svg.selectAll(.dot-${metric})
      .data(filteredData)
      .enter()
      .append('circle')
      .attr('class', dot-${metric})
      .attr('cx', (d) => x(d.season_id))
      .attr('cy', (d) => y(d[metric]))
      .attr('r', 4)
      .attr('fill', colors[index])
      .on('mouseover', (event, d) => {
        tooltip.style('opacity', 1)
          .html(<strong>Season:</strong> ${d.season_id}<br>
                 <strong>${metric}:</strong> ${d[metric]})
          .style('left', ${event.pageX + 10}px)
          .style('top', ${event.pageY - 20}px);
      })
      .on('mouseout', () => tooltip.style('opacity', 0));
  });
};



